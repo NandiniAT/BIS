{
 "cells": [
  {
   "cell_type": "code",
   "execution_count": 1,
   "id": "a80764df",
   "metadata": {},
   "outputs": [
    {
     "name": "stdout",
     "output_type": "stream",
     "text": [
      "Enter the number of particles: 3\n",
      "Enter the number of iterations: 2\n",
      "Enter the inertia weight (e.g., 0.5): 0.5\n",
      "Enter the cognitive constant (e.g., 1.5): 1.5\n",
      "Enter the social constant (e.g., 1.5): 1.5\n",
      "Iteration 1:\n",
      "Particle 1: Position = 3.3037, Velocity = 6.7154, Fitness = 25.6041\n",
      "Particle 2: Position = 1.0617, Velocity = 1.2105, Fitness = 24.1814\n",
      "Particle 3: Position = 1.1647, Velocity = 0.0000, Fitness = 24.4670\n",
      "Global Best Position = 3.3037, Global Best Fitness = 25.6041\n",
      "\n",
      "Iteration 2:\n",
      "Particle 1: Position = 6.6614, Velocity = 3.3577, Fitness = 8.9329\n",
      "Particle 2: Position = 2.7287, Velocity = 1.6670, Fitness = 26.1977\n",
      "Particle 3: Position = 1.5916, Velocity = 0.4269, Fitness = 25.4248\n",
      "Global Best Position = 2.7287, Global Best Fitness = 26.1977\n",
      "\n",
      "Optimal Solution: Position = 2.7287, Value = 26.1977\n"
     ]
    }
   ],
   "source": [
    "import numpy as np\n",
    "\n",
    "def objective_function(x):\n",
    "    return -x**2 + 5*x + 20\n",
    "\n",
    "def initialize_particles(n_particles, bounds):\n",
    "    positions = np.random.uniform(bounds[0], bounds[1], n_particles)\n",
    "    velocities = np.zeros(n_particles)\n",
    "    return positions, velocities\n",
    "\n",
    "def pso(n_particles, bounds, max_iter, w, c1, c2):\n",
    "    positions, velocities = initialize_particles(n_particles, bounds)\n",
    "    pbest_positions = np.copy(positions)\n",
    "    pbest_values = objective_function(pbest_positions)\n",
    "    gbest_position = pbest_positions[np.argmax(pbest_values)]\n",
    "    gbest_value = max(pbest_values)\n",
    "\n",
    "    for iteration in range(max_iter):\n",
    "        print(f\"Iteration {iteration + 1}:\")\n",
    "\n",
    "        for i in range(n_particles):\n",
    "            r1, r2 = np.random.rand(), np.random.rand()\n",
    "            velocities[i] = (w * velocities[i] +\n",
    "                             c1 * r1 * (pbest_positions[i] - positions[i]) +\n",
    "                             c2 * r2 * (gbest_position - positions[i]))\n",
    "            positions[i] += velocities[i]\n",
    "\n",
    "            fitness_value = objective_function(positions[i])\n",
    "            print(f\"Particle {i+1}: Position = {positions[i]:.4f}, Velocity = {velocities[i]:.4f}, Fitness = {fitness_value:.4f}\")\n",
    "\n",
    "            if fitness_value > pbest_values[i]:\n",
    "                pbest_positions[i] = positions[i]\n",
    "                pbest_values[i] = fitness_value\n",
    "\n",
    "        if max(pbest_values) > gbest_value:\n",
    "            gbest_position = pbest_positions[np.argmax(pbest_values)]\n",
    "            gbest_value = max(pbest_values)\n",
    "\n",
    "        print(f\"Global Best Position = {gbest_position:.4f}, Global Best Fitness = {gbest_value:.4f}\\n\")\n",
    "\n",
    "    return gbest_position, gbest_value\n",
    "\n",
    "if __name__ == \"__main__\":\n",
    "    n_particles = int(input(\"Enter the number of particles: \"))\n",
    "    bounds = (-10, 10)\n",
    "    max_iter = int(input(\"Enter the number of iterations: \"))\n",
    "    w = float(input(\"Enter the inertia weight (e.g., 0.5): \"))\n",
    "    c1 = float(input(\"Enter the cognitive constant (e.g., 1.5): \"))\n",
    "    c2 = float(input(\"Enter the social constant (e.g., 1.5): \"))\n",
    "\n",
    "    best_position, best_value = pso(n_particles, bounds, max_iter, w, c1, c2)\n",
    "    print(f\"Optimal Solution: Position = {best_position:.4f}, Value = {best_value:.4f}\")"
   ]
  },
  {
   "cell_type": "code",
   "execution_count": null,
   "id": "47e06bf2",
   "metadata": {},
   "outputs": [],
   "source": []
  }
 ],
 "metadata": {
  "kernelspec": {
   "display_name": "Python 3 (ipykernel)",
   "language": "python",
   "name": "python3"
  },
  "language_info": {
   "codemirror_mode": {
    "name": "ipython",
    "version": 3
   },
   "file_extension": ".py",
   "mimetype": "text/x-python",
   "name": "python",
   "nbconvert_exporter": "python",
   "pygments_lexer": "ipython3",
   "version": "3.9.13"
  }
 },
 "nbformat": 4,
 "nbformat_minor": 5
}
